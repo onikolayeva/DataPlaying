{
 "cells": [
  {
   "cell_type": "markdown",
   "metadata": {},
   "source": [
    "This is a list of data to play around with of all the community resources that are in Philadelphia."
   ]
  },
  {
   "cell_type": "code",
   "execution_count": 5,
   "metadata": {},
   "outputs": [
    {
     "name": "stderr",
     "output_type": "stream",
     "text": [
      "IOPub data rate exceeded.\n",
      "The notebook server will temporarily stop sending output\n",
      "to the client in order to avoid crashing it.\n",
      "To change this limit, set the config variable\n",
      "`--NotebookApp.iopub_data_rate_limit`.\n"
     ]
    }
   ],
   "source": [
    "import pandas as pd\n",
    "\n",
    "import plotly.offline as offline\n",
    "import plotly.graph_objs as go\n",
    "#import matplotlib.pyplot as plt\n",
    "#from mpl_toolkits.basemap import Basemap\n",
    "#from geopy.geocoders import Nominatim\n",
    "#import math\n",
    "offline.init_notebook_mode()\n"
   ]
  },
  {
   "cell_type": "code",
   "execution_count": 6,
   "metadata": {
    "collapsed": true
   },
   "outputs": [],
   "source": [
    "#Get the philly community data set\n",
    "url = \"https://raw.githubusercontent.com/CodeForPhilly/RAPper/master/data.csv\"\n",
    "df = pd.read_csv(url)"
   ]
  },
  {
   "cell_type": "code",
   "execution_count": 7,
   "metadata": {},
   "outputs": [
    {
     "data": {
      "text/html": [
       "<div>\n",
       "<style>\n",
       "    .dataframe thead tr:only-child th {\n",
       "        text-align: right;\n",
       "    }\n",
       "\n",
       "    .dataframe thead th {\n",
       "        text-align: left;\n",
       "    }\n",
       "\n",
       "    .dataframe tbody tr th {\n",
       "        vertical-align: top;\n",
       "    }\n",
       "</style>\n",
       "<table border=\"1\" class=\"dataframe\">\n",
       "  <thead>\n",
       "    <tr style=\"text-align: right;\">\n",
       "      <th></th>\n",
       "      <th>Id</th>\n",
       "      <th>Category</th>\n",
       "      <th>Organization Name</th>\n",
       "      <th>Address</th>\n",
       "      <th>Zip Code</th>\n",
       "      <th>Days</th>\n",
       "      <th>Time: Open</th>\n",
       "      <th>Time: Close</th>\n",
       "      <th>People Served</th>\n",
       "      <th>Description</th>\n",
       "      <th>Phone Number</th>\n",
       "      <th>LatLon</th>\n",
       "    </tr>\n",
       "  </thead>\n",
       "  <tbody>\n",
       "    <tr>\n",
       "      <th>0</th>\n",
       "      <td>1</td>\n",
       "      <td>Day / Drop in Centers</td>\n",
       "      <td>A New Life Recovery &amp; Education Center</td>\n",
       "      <td>3119 Spring Garden St, Philadelphia, PA 19104</td>\n",
       "      <td>19104</td>\n",
       "      <td>Tues-Sat: 10-6pm Recovery &amp; peer support; 1-3p...</td>\n",
       "      <td>10PM</td>\n",
       "      <td>6PM</td>\n",
       "      <td>Women, Men, Families</td>\n",
       "      <td>Services provided: Recovery &amp; peer support, Sn...</td>\n",
       "      <td>267-507-3529</td>\n",
       "      <td>-75.18833430000001,39.9635841</td>\n",
       "    </tr>\n",
       "    <tr>\n",
       "      <th>1</th>\n",
       "      <td>2</td>\n",
       "      <td>Emergency Shelter</td>\n",
       "      <td>ACTS Christian Transistional Services</td>\n",
       "      <td>1428 N. 28th St, Philadelphia, PA 19121</td>\n",
       "      <td>19121</td>\n",
       "      <td>2nd, 3rd, 4th Wednesdays, 6-9 PM</td>\n",
       "      <td>6PM</td>\n",
       "      <td>9PM</td>\n",
       "      <td>Women, Women with Children</td>\n",
       "      <td>ACTS is a recovery house for women and their c...</td>\n",
       "      <td>(215) 769-9799</td>\n",
       "      <td>-75.1812997,39.97794469999999</td>\n",
       "    </tr>\n",
       "    <tr>\n",
       "      <th>2</th>\n",
       "      <td>3</td>\n",
       "      <td>Emergency Shelter</td>\n",
       "      <td>Apple Tree Family Center</td>\n",
       "      <td>1430 Cherry St, Philadelphia, PA 19102</td>\n",
       "      <td>19102</td>\n",
       "      <td>Mon-Fri 7AM - 3PM</td>\n",
       "      <td>NaN</td>\n",
       "      <td>NaN</td>\n",
       "      <td>Women, Families</td>\n",
       "      <td>Families/Single Women Seeking Emergency Housin...</td>\n",
       "      <td>215-686-7150/52</td>\n",
       "      <td>-75.1641606,39.9554759</td>\n",
       "    </tr>\n",
       "    <tr>\n",
       "      <th>3</th>\n",
       "      <td>4</td>\n",
       "      <td>Emergency Food</td>\n",
       "      <td>Grace Café at Arch Street United Methodist Church</td>\n",
       "      <td>55 N Broad St, Philadelphia, PA 19107</td>\n",
       "      <td>19107</td>\n",
       "      <td>Sunday 5:30PM - 7PM</td>\n",
       "      <td>5:30 PM</td>\n",
       "      <td>7:00 PM</td>\n",
       "      <td>Women, Men, Families</td>\n",
       "      <td>Dinner Sun: 5:30-7:00pm</td>\n",
       "      <td>215-568-6250</td>\n",
       "      <td>-75.16290719999999,39.954096</td>\n",
       "    </tr>\n",
       "    <tr>\n",
       "      <th>4</th>\n",
       "      <td>5</td>\n",
       "      <td>Permanent Housing</td>\n",
       "      <td>Bethesda Bainbridge</td>\n",
       "      <td>700 S. 15th St, Philadelphia, PA 19146</td>\n",
       "      <td>19146</td>\n",
       "      <td>NaN</td>\n",
       "      <td>NaN</td>\n",
       "      <td>NaN</td>\n",
       "      <td>Men</td>\n",
       "      <td>Permanent single room occupancy (SRO) housing ...</td>\n",
       "      <td>(215) 985-1600</td>\n",
       "      <td>-75.167497,39.9429167</td>\n",
       "    </tr>\n",
       "  </tbody>\n",
       "</table>\n",
       "</div>"
      ],
      "text/plain": [
       "   Id               Category  \\\n",
       "0   1  Day / Drop in Centers   \n",
       "1   2      Emergency Shelter   \n",
       "2   3      Emergency Shelter   \n",
       "3   4         Emergency Food   \n",
       "4   5      Permanent Housing   \n",
       "\n",
       "                                   Organization Name  \\\n",
       "0             A New Life Recovery & Education Center   \n",
       "1              ACTS Christian Transistional Services   \n",
       "2                           Apple Tree Family Center   \n",
       "3  Grace Café at Arch Street United Methodist Church   \n",
       "4                                Bethesda Bainbridge   \n",
       "\n",
       "                                         Address  Zip Code  \\\n",
       "0  3119 Spring Garden St, Philadelphia, PA 19104     19104   \n",
       "1        1428 N. 28th St, Philadelphia, PA 19121     19121   \n",
       "2         1430 Cherry St, Philadelphia, PA 19102     19102   \n",
       "3          55 N Broad St, Philadelphia, PA 19107     19107   \n",
       "4         700 S. 15th St, Philadelphia, PA 19146     19146   \n",
       "\n",
       "                                                Days Time: Open Time: Close  \\\n",
       "0  Tues-Sat: 10-6pm Recovery & peer support; 1-3p...       10PM         6PM   \n",
       "1                   2nd, 3rd, 4th Wednesdays, 6-9 PM        6PM         9PM   \n",
       "2                                  Mon-Fri 7AM - 3PM        NaN         NaN   \n",
       "3                                Sunday 5:30PM - 7PM    5:30 PM     7:00 PM   \n",
       "4                                                NaN        NaN         NaN   \n",
       "\n",
       "                People Served  \\\n",
       "0        Women, Men, Families   \n",
       "1  Women, Women with Children   \n",
       "2             Women, Families   \n",
       "3        Women, Men, Families   \n",
       "4                         Men   \n",
       "\n",
       "                                         Description     Phone Number  \\\n",
       "0  Services provided: Recovery & peer support, Sn...     267-507-3529   \n",
       "1  ACTS is a recovery house for women and their c...   (215) 769-9799   \n",
       "2  Families/Single Women Seeking Emergency Housin...  215-686-7150/52   \n",
       "3                            Dinner Sun: 5:30-7:00pm     215-568-6250   \n",
       "4  Permanent single room occupancy (SRO) housing ...   (215) 985-1600   \n",
       "\n",
       "                          LatLon  \n",
       "0  -75.18833430000001,39.9635841  \n",
       "1  -75.1812997,39.97794469999999  \n",
       "2         -75.1641606,39.9554759  \n",
       "3   -75.16290719999999,39.954096  \n",
       "4          -75.167497,39.9429167  "
      ]
     },
     "execution_count": 7,
     "metadata": {},
     "output_type": "execute_result"
    }
   ],
   "source": [
    "df.head()"
   ]
  },
  {
   "cell_type": "code",
   "execution_count": 8,
   "metadata": {},
   "outputs": [
    {
     "data": {
      "text/html": [
       "<div>\n",
       "<style>\n",
       "    .dataframe thead tr:only-child th {\n",
       "        text-align: right;\n",
       "    }\n",
       "\n",
       "    .dataframe thead th {\n",
       "        text-align: left;\n",
       "    }\n",
       "\n",
       "    .dataframe tbody tr th {\n",
       "        vertical-align: top;\n",
       "    }\n",
       "</style>\n",
       "<table border=\"1\" class=\"dataframe\">\n",
       "  <thead>\n",
       "    <tr style=\"text-align: right;\">\n",
       "      <th></th>\n",
       "      <th>Id</th>\n",
       "      <th>Category</th>\n",
       "      <th>Organization Name</th>\n",
       "      <th>Address</th>\n",
       "      <th>Zip Code</th>\n",
       "      <th>Days</th>\n",
       "      <th>Time: Open</th>\n",
       "      <th>Time: Close</th>\n",
       "      <th>People Served</th>\n",
       "      <th>Description</th>\n",
       "      <th>Phone Number</th>\n",
       "      <th>LatLon</th>\n",
       "    </tr>\n",
       "  </thead>\n",
       "  <tbody>\n",
       "    <tr>\n",
       "      <th>96</th>\n",
       "      <td>97</td>\n",
       "      <td>Legal</td>\n",
       "      <td>Women Against Abuse, Inc.</td>\n",
       "      <td>100 S. Broad Street, Philadelphia, PA 19110</td>\n",
       "      <td>19110</td>\n",
       "      <td>NaN</td>\n",
       "      <td>NaN</td>\n",
       "      <td>NaN</td>\n",
       "      <td>Women, Women with Children</td>\n",
       "      <td>The Legal Center offers free legal advocacy an...</td>\n",
       "      <td>215.686.7082</td>\n",
       "      <td>-75.1644611,39.9503752</td>\n",
       "    </tr>\n",
       "    <tr>\n",
       "      <th>97</th>\n",
       "      <td>98</td>\n",
       "      <td>Emergency Shelter</td>\n",
       "      <td>Women of Change</td>\n",
       "      <td>2041 Arch Street, Philadelphia, PA 19103</td>\n",
       "      <td>19103</td>\n",
       "      <td>NaN</td>\n",
       "      <td>NaN</td>\n",
       "      <td>NaN</td>\n",
       "      <td>NaN</td>\n",
       "      <td>Save haven for chronically homeless seriously ...</td>\n",
       "      <td>NaN</td>\n",
       "      <td>-75.1742359,39.956006</td>\n",
       "    </tr>\n",
       "    <tr>\n",
       "      <th>98</th>\n",
       "      <td>99</td>\n",
       "      <td>Emergency Shelter</td>\n",
       "      <td>Woodstock Family Shelter</td>\n",
       "      <td>1981 N Woodstock St, Philadelphia, PA 19121</td>\n",
       "      <td>19121</td>\n",
       "      <td>NaN</td>\n",
       "      <td>NaN</td>\n",
       "      <td>NaN</td>\n",
       "      <td>Women, Women with Children</td>\n",
       "      <td>Woodstock Family Center provides emergency she...</td>\n",
       "      <td>215-235-5040</td>\n",
       "      <td>-75.167666,39.98391</td>\n",
       "    </tr>\n",
       "    <tr>\n",
       "      <th>99</th>\n",
       "      <td>100</td>\n",
       "      <td>Emergency Shelter</td>\n",
       "      <td>Young Womens Boarding Home Associations</td>\n",
       "      <td>915 Clinton Street, Philadelphia, PA 19107</td>\n",
       "      <td>19107</td>\n",
       "      <td>NaN</td>\n",
       "      <td>NaN</td>\n",
       "      <td>NaN</td>\n",
       "      <td>NaN</td>\n",
       "      <td>TO PROVIDE COMFORTABLE HOUSING AT REASONABLE R...</td>\n",
       "      <td>NaN</td>\n",
       "      <td>-75.157181,39.945295</td>\n",
       "    </tr>\n",
       "    <tr>\n",
       "      <th>100</th>\n",
       "      <td>101</td>\n",
       "      <td>Emergency Shelter</td>\n",
       "      <td>Youth Emergency Services</td>\n",
       "      <td>1526 Fairmount Avenue, Philadelphia, PA 19130</td>\n",
       "      <td>19130</td>\n",
       "      <td>NaN</td>\n",
       "      <td>NaN</td>\n",
       "      <td>NaN</td>\n",
       "      <td>Children</td>\n",
       "      <td>Temporary Youth Shelter</td>\n",
       "      <td>215-787-0633</td>\n",
       "      <td>-75.1631142,39.9668384</td>\n",
       "    </tr>\n",
       "  </tbody>\n",
       "</table>\n",
       "</div>"
      ],
      "text/plain": [
       "      Id           Category                        Organization Name  \\\n",
       "96    97              Legal                Women Against Abuse, Inc.   \n",
       "97    98  Emergency Shelter                          Women of Change   \n",
       "98    99  Emergency Shelter                 Woodstock Family Shelter   \n",
       "99   100  Emergency Shelter  Young Womens Boarding Home Associations   \n",
       "100  101  Emergency Shelter                 Youth Emergency Services   \n",
       "\n",
       "                                           Address  Zip Code Days Time: Open  \\\n",
       "96     100 S. Broad Street, Philadelphia, PA 19110     19110  NaN        NaN   \n",
       "97        2041 Arch Street, Philadelphia, PA 19103     19103  NaN        NaN   \n",
       "98     1981 N Woodstock St, Philadelphia, PA 19121     19121  NaN        NaN   \n",
       "99      915 Clinton Street, Philadelphia, PA 19107     19107  NaN        NaN   \n",
       "100  1526 Fairmount Avenue, Philadelphia, PA 19130     19130  NaN        NaN   \n",
       "\n",
       "    Time: Close               People Served  \\\n",
       "96          NaN  Women, Women with Children   \n",
       "97          NaN                         NaN   \n",
       "98          NaN  Women, Women with Children   \n",
       "99          NaN                         NaN   \n",
       "100         NaN                    Children   \n",
       "\n",
       "                                           Description  Phone Number  \\\n",
       "96   The Legal Center offers free legal advocacy an...  215.686.7082   \n",
       "97   Save haven for chronically homeless seriously ...           NaN   \n",
       "98   Woodstock Family Center provides emergency she...  215-235-5040   \n",
       "99   TO PROVIDE COMFORTABLE HOUSING AT REASONABLE R...           NaN   \n",
       "100                            Temporary Youth Shelter  215-787-0633   \n",
       "\n",
       "                     LatLon  \n",
       "96   -75.1644611,39.9503752  \n",
       "97    -75.1742359,39.956006  \n",
       "98      -75.167666,39.98391  \n",
       "99     -75.157181,39.945295  \n",
       "100  -75.1631142,39.9668384  "
      ]
     },
     "execution_count": 8,
     "metadata": {},
     "output_type": "execute_result"
    }
   ],
   "source": [
    "df.tail()"
   ]
  },
  {
   "cell_type": "code",
   "execution_count": 13,
   "metadata": {},
   "outputs": [
    {
     "data": {
      "text/plain": [
       "0            Women, Men, Families\n",
       "1      Women, Women with Children\n",
       "2                 Women, Families\n",
       "3            Women, Men, Families\n",
       "4                             Men\n",
       "5                           Women\n",
       "6                           Women\n",
       "7            Women, Men, Families\n",
       "8            Women, Men, Families\n",
       "9                             Men\n",
       "10                            Men\n",
       "11           Women, Men, Families\n",
       "12           Women, Men, Families\n",
       "13           Women, Men, Families\n",
       "14                     Women, Men\n",
       "15                     Women, Men\n",
       "16                     Women, Men\n",
       "17                       Children\n",
       "18                     Women, Men\n",
       "19                Women, Families\n",
       "20                Women, Families\n",
       "21                       Families\n",
       "24           Women, Men, Families\n",
       "25           Women, Men, Families\n",
       "26                            Men\n",
       "27                            Men\n",
       "28                          Women\n",
       "29                     Women, Men\n",
       "30           Women, Men, Families\n",
       "31           Women, Men, Families\n",
       "                  ...            \n",
       "56                            Men\n",
       "57     Women, Women with Children\n",
       "60           Women, Men, Families\n",
       "62                       Families\n",
       "68                            Men\n",
       "69                          Women\n",
       "70                            Men\n",
       "71                            Men\n",
       "73           Women, Men, Families\n",
       "74                            Men\n",
       "75                            Men\n",
       "76                            Men\n",
       "77           Women, Men, Families\n",
       "78           Women, Men, Families\n",
       "80                            Men\n",
       "83                     Women, Men\n",
       "84                            Men\n",
       "86                       Veterans\n",
       "87                            Men\n",
       "88           Women, Men, Families\n",
       "89                       Families\n",
       "90                       Families\n",
       "91                     Women, Men\n",
       "92           Women, Men, Families\n",
       "93           Women, Men, Families\n",
       "94           Women, Men, Families\n",
       "95     Women, Women with Children\n",
       "96     Women, Women with Children\n",
       "98     Women, Women with Children\n",
       "100                      Children\n",
       "Name: People Served, Length: 72, dtype: object"
      ]
     },
     "execution_count": 13,
     "metadata": {},
     "output_type": "execute_result"
    }
   ],
   "source": [
    "#split up the latitude and longitude into separate columns\n",
    "df2 = df['LatLon'].str.strip().str.split(',',expand=True).rename(columns={0:'Latitude', 1:'Longitude'}) \n",
    "df['Latitude'] = df2['Latitude']\n",
    "df['Longitude'] = df2['Longitude']\n",
    "\n",
    "#Drop NA rows for the column of people served to plot by category\n",
    "df3 = df.dropna(subset=['People Served'])\n",
    "df3['People Served']"
   ]
  },
  {
   "cell_type": "code",
   "execution_count": 46,
   "metadata": {},
   "outputs": [
    {
     "data": {
      "text/plain": [
       "[('Day / Drop in Centers', 5),\n",
       " ('Dental', 1),\n",
       " ('Emergency Food', 15),\n",
       " ('Emergency Shelter', 11),\n",
       " ('Legal', 3),\n",
       " ('Medical', 6),\n",
       " ('Permanent Housing', 6)]"
      ]
     },
     "execution_count": 46,
     "metadata": {},
     "output_type": "execute_result"
    }
   ],
   "source": [
    "#Get the zipcodes that services women\n",
    "df_women = df3[df3['People Served'].str.contains('Women')]\n",
    "df_women_zipcode = df_women.groupby('Zip Code').count()\n",
    "df_women_category = df_women.groupby('Category').count()\n",
    "zipcodes = [str(zipcode) for zipcode in df_women_zipcode.index]\n",
    "\n",
    "category_name = [str(cat) for cat in df_women_category.index]\n",
    "cat_counts = [int(cat) for cat in df_women_category['Zip Code']]\n",
    "\n",
    "category_count = list(zip(category_name,cat_counts))\n",
    "category_count"
   ]
  },
  {
   "cell_type": "code",
   "execution_count": 48,
   "metadata": {},
   "outputs": [
    {
     "data": {
      "application/vnd.plotly.v1+json": {
       "data": [
        {
         "type": "bar",
         "x": [
          "Day / Drop in Centers",
          "Dental",
          "Emergency Food",
          "Emergency Shelter",
          "Legal",
          "Medical",
          "Permanent Housing"
         ],
         "y": [
          [
           "Day / Drop in Centers",
           5
          ],
          [
           "Dental",
           1
          ],
          [
           "Emergency Food",
           15
          ],
          [
           "Emergency Shelter",
           11
          ],
          [
           "Legal",
           3
          ],
          [
           "Medical",
           6
          ],
          [
           "Permanent Housing",
           6
          ]
         ]
        }
       ],
       "layout": {}
      },
      "text/html": [
       "<div id=\"fa8f073c-970f-4337-bb75-fdbc71d7abc4\" style=\"height: 525px; width: 100%;\" class=\"plotly-graph-div\"></div><script type=\"text/javascript\">require([\"plotly\"], function(Plotly) { window.PLOTLYENV=window.PLOTLYENV || {};window.PLOTLYENV.BASE_URL=\"https://plot.ly\";Plotly.newPlot(\"fa8f073c-970f-4337-bb75-fdbc71d7abc4\", [{\"type\": \"bar\", \"x\": [\"Day / Drop in Centers\", \"Dental\", \"Emergency Food\", \"Emergency Shelter\", \"Legal\", \"Medical\", \"Permanent Housing\"], \"y\": [[\"Day / Drop in Centers\", 5], [\"Dental\", 1], [\"Emergency Food\", 15], [\"Emergency Shelter\", 11], [\"Legal\", 3], [\"Medical\", 6], [\"Permanent Housing\", 6]]}], {}, {\"showLink\": true, \"linkText\": \"Export to plot.ly\"})});</script>"
      ],
      "text/vnd.plotly.v1+html": [
       "<div id=\"fa8f073c-970f-4337-bb75-fdbc71d7abc4\" style=\"height: 525px; width: 100%;\" class=\"plotly-graph-div\"></div><script type=\"text/javascript\">require([\"plotly\"], function(Plotly) { window.PLOTLYENV=window.PLOTLYENV || {};window.PLOTLYENV.BASE_URL=\"https://plot.ly\";Plotly.newPlot(\"fa8f073c-970f-4337-bb75-fdbc71d7abc4\", [{\"type\": \"bar\", \"x\": [\"Day / Drop in Centers\", \"Dental\", \"Emergency Food\", \"Emergency Shelter\", \"Legal\", \"Medical\", \"Permanent Housing\"], \"y\": [[\"Day / Drop in Centers\", 5], [\"Dental\", 1], [\"Emergency Food\", 15], [\"Emergency Shelter\", 11], [\"Legal\", 3], [\"Medical\", 6], [\"Permanent Housing\", 6]]}], {}, {\"showLink\": true, \"linkText\": \"Export to plot.ly\"})});</script>"
      ]
     },
     "metadata": {},
     "output_type": "display_data"
    }
   ],
   "source": [
    "data = [go.Bar(x=category_name,\n",
    "            y=category_count)]\n",
    "\n",
    "offline.iplot(data)"
   ]
  },
  {
   "cell_type": "code",
   "execution_count": null,
   "metadata": {
    "collapsed": true
   },
   "outputs": [],
   "source": []
  }
 ],
 "metadata": {
  "kernelspec": {
   "display_name": "Python 3",
   "language": "python",
   "name": "python3"
  },
  "language_info": {
   "codemirror_mode": {
    "name": "ipython",
    "version": 3
   },
   "file_extension": ".py",
   "mimetype": "text/x-python",
   "name": "python",
   "nbconvert_exporter": "python",
   "pygments_lexer": "ipython3",
   "version": "3.6.1"
  }
 },
 "nbformat": 4,
 "nbformat_minor": 2
}
